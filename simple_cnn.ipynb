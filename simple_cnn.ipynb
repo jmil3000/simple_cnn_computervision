{
 "cells": [
  {
   "cell_type": "code",
   "execution_count": 5,
   "metadata": {},
   "outputs": [],
   "source": [
    "import numpy as np\n",
    "import matplotlib.pyplot as plt\n",
    "import tensorflow as tf\n",
    "from tensorflow.keras import layers, models"
   ]
  },
  {
   "cell_type": "code",
   "execution_count": 6,
   "metadata": {},
   "outputs": [
    {
     "data": {
      "image/png": "[encoded data removed]",
      "text/plain": [
       "<Figure size 640x480 with 2 Axes>"
      ]
     },
     "metadata": {},
     "output_type": "display_data"
    }
   ],
   "source": [
    "def generate_phantom(num_ellipses):\n",
    "    image = np.zeros((28, 28))\n",
    "    for _ in range(num_ellipses):\n",
    "        rx, ry = np.random.randint(5, 14, size=2) \n",
    "        cx, cy = np.random.randint(5, 23, size=2) \n",
    "        theta = np.linspace(0, 2*np.pi, 100)\n",
    "        x = rx * np.cos(theta) + cx\n",
    "        y = ry * np.sin(theta) + cy\n",
    "\n",
    "        for i in range(len(x)):\n",
    "            if 0 <= int(x[i]) < 28 and 0 <= int(y[i]) < 28:\n",
    "                image[int(y[i]), int(x[i])] = 1\n",
    "    return image\n",
    "\n",
    "fig, axs = plt.subplots(1, 2)\n",
    "axs[0].imshow(generate_phantom(1), cmap='gray')\n",
    "axs[0].set_title('One Ellipse')\n",
    "axs[1].imshow(generate_phantom(2), cmap='gray')\n",
    "axs[1].set_title('Two Ellipses')\n",
    "plt.show()\n"
   ]
  },
  {
   "cell_type": "code",
   "execution_count": 7,
   "metadata": {},
   "outputs": [],
   "source": [
    "def generate_dataset(num_samples):\n",
    "    X = np.zeros((num_samples, 28, 28, 1))\n",
    "    y = np.zeros((num_samples,))\n",
    "    for i in range(num_samples):\n",
    "        num_ellipses = np.random.choice([1, 2])\n",
    "        X[i, :, :, 0] = generate_phantom(num_ellipses)\n",
    "        y[i] = num_ellipses - 1\n",
    "    return X, y\n",
    "\n",
    "X, y = generate_dataset(1000)\n"
   ]
  },
  {
   "cell_type": "code",
   "execution_count": 8,
   "metadata": {},
   "outputs": [
    {
     "name": "stdout",
     "output_type": "stream",
     "text": [
      "Model: \"sequential\"\n",
      "_________________________________________________________________\n",
      " Layer (type)                Output Shape              Param #   \n",
      "=================================================================\n",
      " conv2d (Conv2D)             (None, 26, 26, 32)        320       \n",
      "                                                                 \n",
      " max_pooling2d (MaxPooling2  (None, 13, 13, 32)        0         \n",
      " D)                                                              \n",
      "                                                                 \n",
      " conv2d_1 (Conv2D)           (None, 11, 11, 64)        18496     \n",
      "                                                                 \n",
      " flatten (Flatten)           (None, 7744)              0         \n",
      "                                                                 \n",
      " dense (Dense)               (None, 64)                495680    \n",
      "                                                                 \n",
      " dense_1 (Dense)             (None, 2)                 130       \n",
      "                                                                 \n",
      "=================================================================\n",
      "Total params: 514626 (1.96 MB)\n",
      "Trainable params: 514626 (1.96 MB)\n",
      "Non-trainable params: 0 (0.00 Byte)\n",
      "_________________________________________________________________\n"
     ]
    }
   ],
   "source": [
    "model = models.Sequential([\n",
    "    layers.Conv2D(32, (3, 3), activation='relu', input_shape=(28, 28, 1)),\n",
    "    layers.MaxPooling2D((2, 2)),\n",
    "    layers.Conv2D(64, (3, 3), activation='relu'),\n",
    "    layers.Flatten(),\n",
    "    layers.Dense(64, activation='relu'),\n",
    "    layers.Dense(2, activation='softmax')\n",
    "])\n",
    "\n",
    "model.compile(optimizer='adam',\n",
    "              loss='sparse_categorical_crossentropy',\n",
    "              metrics=['accuracy'])\n",
    "\n",
    "model.summary()\n"
   ]
  },
  {
   "cell_type": "code",
   "execution_count": 9,
   "metadata": {},
   "outputs": [
    {
     "name": "stdout",
     "output_type": "stream",
     "text": [
      "Epoch 1/10\n",
      "25/25 [==============================] - 0s 9ms/step - loss: 0.6693 - accuracy: 0.6612 - val_loss: 0.5242 - val_accuracy: 0.8550\n",
      "Epoch 2/10\n",
      "25/25 [==============================] - 0s 6ms/step - loss: 0.2125 - accuracy: 0.9600 - val_loss: 0.0676 - val_accuracy: 0.9800\n",
      "Epoch 3/10\n",
      "25/25 [==============================] - 0s 6ms/step - loss: 0.0359 - accuracy: 0.9925 - val_loss: 0.0414 - val_accuracy: 0.9950\n",
      "Epoch 4/10\n",
      "25/25 [==============================] - 0s 6ms/step - loss: 0.0164 - accuracy: 0.9950 - val_loss: 0.0357 - val_accuracy: 0.9900\n",
      "Epoch 5/10\n",
      "25/25 [==============================] - 0s 6ms/step - loss: 0.0084 - accuracy: 0.9987 - val_loss: 0.0289 - val_accuracy: 0.9950\n",
      "Epoch 6/10\n",
      "25/25 [==============================] - 0s 6ms/step - loss: 0.0045 - accuracy: 1.0000 - val_loss: 0.0260 - val_accuracy: 0.9950\n",
      "Epoch 7/10\n",
      "25/25 [==============================] - 0s 6ms/step - loss: 0.0022 - accuracy: 1.0000 - val_loss: 0.0224 - val_accuracy: 0.9950\n",
      "Epoch 8/10\n",
      "25/25 [==============================] - 0s 7ms/step - loss: 0.0014 - accuracy: 1.0000 - val_loss: 0.0255 - val_accuracy: 0.9900\n",
      "Epoch 9/10\n",
      "25/25 [==============================] - 0s 7ms/step - loss: 0.0012 - accuracy: 1.0000 - val_loss: 0.0218 - val_accuracy: 0.9950\n",
      "Epoch 10/10\n",
      "25/25 [==============================] - 0s 7ms/step - loss: 8.9257e-04 - accuracy: 1.0000 - val_loss: 0.0236 - val_accuracy: 0.9900\n"
     ]
    }
   ],
   "source": [
    "from sklearn.model_selection import train_test_split\n",
    "X_train, X_val, y_train, y_val = train_test_split(X, y, test_size=0.2, random_state=42)\n",
    "history = model.fit(X_train, y_train, epochs=10, validation_data=(X_val, y_val))\n"
   ]
  },
  {
   "cell_type": "code",
   "execution_count": 10,
   "metadata": {},
   "outputs": [
    {
     "name": "stdout",
     "output_type": "stream",
     "text": [
      "1/1 [==============================] - 0s 55ms/step\n"
     ]
    },
    {
     "data": {
      "image/png": "[encoded data removed]",
      "text/plain": [
       "<Figure size 2000x200 with 10 Axes>"
      ]
     },
     "metadata": {},
     "output_type": "display_data"
    }
   ],
   "source": [
    "num_test_samples = 10\n",
    "X_test = np.zeros((num_test_samples, 28, 28, 1))\n",
    "\n",
    "for i in range(num_test_samples):\n",
    "    num_ellipses = np.random.choice([1, 2])\n",
    "    X_test[i, :, :, 0] = generate_phantom(num_ellipses)\n",
    "\n",
    "predictions = model.predict(X_test)\n",
    "predicted_classes = np.argmax(predictions, axis=1) + 1 #match prediction\n",
    "\n",
    "fig, axs = plt.subplots(1, num_test_samples, figsize=(20, 2))\n",
    "for i in range(num_test_samples):\n",
    "    axs[i].imshow(X_test[i, :, :, 0], cmap='gray')\n",
    "    axs[i].set_title(f'Predicted: {predicted_classes[i]}')\n",
    "    axs[i].axis('off')\n",
    "plt.show()\n"
   ]
  }
 ],
 "metadata": {
  "kernelspec": {
   "display_name": "Python 3",
   "language": "python",
   "name": "python3"
  },
  "language_info": {
   "codemirror_mode": {
    "name": "ipython",
    "version": 3
   },
   "file_extension": ".py",
   "mimetype": "text/x-python",
   "name": "python",
   "nbconvert_exporter": "python",
   "pygments_lexer": "ipython3",
   "version": "3.11.0"
  }
 },
 "nbformat": 4,
 "nbformat_minor": 2
}
